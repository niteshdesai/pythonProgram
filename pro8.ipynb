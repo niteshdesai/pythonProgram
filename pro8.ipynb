{
 "cells": [
  {
   "cell_type": "code",
   "execution_count": 1,
   "id": "a488f231",
   "metadata": {},
   "outputs": [
    {
     "name": "stdout",
     "output_type": "stream",
     "text": [
      "How Many Students : 5\n",
      "Enter 1 Student Marks : 60\n",
      "Enter 2 Student Marks : 70\n",
      "Enter 3 Student Marks : 80\n",
      "Enter 4 Student Marks : 34\n",
      "Enter 5 Student Marks : 33\n",
      "Percantage of Passing Students 60.0%\n"
     ]
    }
   ],
   "source": [
    "\n",
    "students=int(input(\"How Many Students : \"))\n",
    "p=0\n",
    "i=1\n",
    "while(i<=students):\n",
    "    m=int(input(\"Enter {} Student Marks : \".format(i)))\n",
    "    if(m>100 or m<0):\n",
    "        print(\"please,enter valid student marks\")\n",
    "        continue\n",
    "    if(m>=40):\n",
    "        p+=1\n",
    "    i+=1    \n",
    "print(\"Percantage of Passing Students {}%\".format((p*100)/students))\n",
    "    "
   ]
  },
  {
   "cell_type": "code",
   "execution_count": null,
   "id": "9d8193e2",
   "metadata": {},
   "outputs": [],
   "source": []
  }
 ],
 "metadata": {
  "kernelspec": {
   "display_name": "Python 3 (ipykernel)",
   "language": "python",
   "name": "python3"
  },
  "language_info": {
   "codemirror_mode": {
    "name": "ipython",
    "version": 3
   },
   "file_extension": ".py",
   "mimetype": "text/x-python",
   "name": "python",
   "nbconvert_exporter": "python",
   "pygments_lexer": "ipython3",
   "version": "3.9.6"
  }
 },
 "nbformat": 4,
 "nbformat_minor": 5
}
