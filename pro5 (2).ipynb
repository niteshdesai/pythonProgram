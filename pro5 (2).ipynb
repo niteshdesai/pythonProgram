{
 "cells": [
  {
   "cell_type": "code",
   "execution_count": 7,
   "id": "ed8fcc52",
   "metadata": {},
   "outputs": [
    {
     "name": "stdout",
     "output_type": "stream",
     "text": [
      "Enter (-,+) after end of your value to specify negative or posative blood group:\n",
      "\n",
      " Enter Blood Group For Match:ab+\n",
      "\n",
      "AB+ blood group is match:\n"
     ]
    }
   ],
   "source": [
    "bloodG=['A-','A+','B-','B+','O-','O+','AB+','AB-']\n",
    "\n",
    "print(\"Enter (-,+) after end of your value to specify negative or posative blood group:\")\n",
    " \n",
    "matchb=str(input(\"\\n Enter Blood Group For Match:\")).upper()\n",
    "\n",
    "match=0\n",
    "for i in bloodG:\n",
    "    if(i==matchb):\n",
    "        print(\"\\n{} blood group is match:\".format(matchb))\n",
    "        match=1\n",
    "        break\n",
    "if(match==0):\n",
    "     print(\"\\n{} blood group is not match:\".format(matchb))\n",
    "\n",
    "   \n",
    "\n",
    "    "
   ]
  },
  {
   "cell_type": "code",
   "execution_count": null,
   "id": "b8913031",
   "metadata": {},
   "outputs": [],
   "source": []
  },
  {
   "cell_type": "code",
   "execution_count": null,
   "id": "a40d605b",
   "metadata": {},
   "outputs": [],
   "source": []
  }
 ],
 "metadata": {
  "kernelspec": {
   "display_name": "Python 3 (ipykernel)",
   "language": "python",
   "name": "python3"
  },
  "language_info": {
   "codemirror_mode": {
    "name": "ipython",
    "version": 3
   },
   "file_extension": ".py",
   "mimetype": "text/x-python",
   "name": "python",
   "nbconvert_exporter": "python",
   "pygments_lexer": "ipython3",
   "version": "3.9.6"
  }
 },
 "nbformat": 4,
 "nbformat_minor": 5
}
