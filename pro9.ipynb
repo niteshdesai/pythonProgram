{
 "cells": [
  {
   "cell_type": "code",
   "execution_count": 11,
   "id": "9db0bc54",
   "metadata": {},
   "outputs": [
    {
     "name": "stdout",
     "output_type": "stream",
     "text": [
      "Enter term:10\n",
      "0\n",
      "1\n",
      "1\n",
      "2\n",
      "3\n",
      "5\n",
      "8\n",
      "13\n",
      "21\n",
      "34\n"
     ]
    }
   ],
   "source": [
    "pre=1\n",
    "nex=0\n",
    "sum=0\n",
    "\n",
    "num=int(input(\"Enter term:\"))\n",
    "for i in range(num):\n",
    "    print(sum)\n",
    "    sum=pre+nex;\n",
    "    pre=nex\n",
    "    nex=sum\n"
   ]
  },
  {
   "cell_type": "code",
   "execution_count": null,
   "id": "69f8217f",
   "metadata": {},
   "outputs": [],
   "source": []
  }
 ],
 "metadata": {
  "kernelspec": {
   "display_name": "Python 3 (ipykernel)",
   "language": "python",
   "name": "python3"
  },
  "language_info": {
   "codemirror_mode": {
    "name": "ipython",
    "version": 3
   },
   "file_extension": ".py",
   "mimetype": "text/x-python",
   "name": "python",
   "nbconvert_exporter": "python",
   "pygments_lexer": "ipython3",
   "version": "3.9.6"
  }
 },
 "nbformat": 4,
 "nbformat_minor": 5
}
