{
 "cells": [
  {
   "cell_type": "code",
   "execution_count": 7,
   "id": "7b07ad1e",
   "metadata": {},
   "outputs": [
    {
     "name": "stdout",
     "output_type": "stream",
     "text": [
      "Branch: CS\n",
      "Year: 24\n",
      "Degree: M\n",
      "No: 038\n"
     ]
    }
   ],
   "source": [
    "rollno=\"CS24M038\"\n",
    "\n",
    "branch=rollno[:2]\n",
    "print(\"Branch:\",branch)\n",
    "year=rollno[2:4]\n",
    "print(\"Year:\",year)\n",
    "degree=rollno[4]\n",
    "print(\"Degree:\",degree)\n",
    "no=rollno[5:]\n",
    "print(\"No:\",no)\n"
   ]
  },
  {
   "cell_type": "code",
   "execution_count": null,
   "id": "fe2faad2",
   "metadata": {},
   "outputs": [],
   "source": []
  }
 ],
 "metadata": {
  "kernelspec": {
   "display_name": "Python 3 (ipykernel)",
   "language": "python",
   "name": "python3"
  },
  "language_info": {
   "codemirror_mode": {
    "name": "ipython",
    "version": 3
   },
   "file_extension": ".py",
   "mimetype": "text/x-python",
   "name": "python",
   "nbconvert_exporter": "python",
   "pygments_lexer": "ipython3",
   "version": "3.9.6"
  }
 },
 "nbformat": 4,
 "nbformat_minor": 5
}
