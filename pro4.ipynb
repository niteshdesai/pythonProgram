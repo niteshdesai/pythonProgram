{
 "cells": [
  {
   "cell_type": "code",
   "execution_count": 1,
   "id": "3859a4a7",
   "metadata": {},
   "outputs": [
    {
     "name": "stdout",
     "output_type": "stream",
     "text": [
      "un[0]: G\n",
      "un[0:3]: Guj\n",
      "un[3:]: arat Vidyapith\n",
      "un[-1]: h\n",
      "un[-1:]: h\n",
      "un[-14:]: arat Vidyapith\n",
      "un[12:-2]: api\n",
      "un[2:-10]: jarat\n",
      "un[2:5]: jar\n",
      "un[1:5]: ujar\n",
      "un[::2]: GjrtVdaih\n",
      "un[::-1] htipaydiV tarajuG\n"
     ]
    }
   ],
   "source": [
    "un=\"Gujarat Vidyapith\"\n",
    "\n",
    "print(\"un[0]:\",un[0])\n",
    "print(\"un[0:3]:\",un[0:3])\n",
    "print(\"un[3:]:\",un[3:])\n",
    "print(\"un[-1]:\",un[-1])\n",
    "print(\"un[-1:]:\",un[-1:])\n",
    "print(\"un[-14:]:\",un[-14:])\n",
    "print(\"un[12:-2]:\",un[12:-2])\n",
    "print(\"un[2:-10]:\",un[2:-10])\n",
    "print(\"un[2:5]:\",un[2:5])\n",
    "print(\"un[1:5]:\",un[1:5])\n",
    "\n",
    "print(\"un[::2]:\",un[::2])\n",
    "print(\"un[::-1]\",un[::-1])"
   ]
  },
  {
   "cell_type": "code",
   "execution_count": null,
   "id": "1abbd27a",
   "metadata": {},
   "outputs": [],
   "source": []
  }
 ],
 "metadata": {
  "kernelspec": {
   "display_name": "Python 3 (ipykernel)",
   "language": "python",
   "name": "python3"
  },
  "language_info": {
   "codemirror_mode": {
    "name": "ipython",
    "version": 3
   },
   "file_extension": ".py",
   "mimetype": "text/x-python",
   "name": "python",
   "nbconvert_exporter": "python",
   "pygments_lexer": "ipython3",
   "version": "3.9.6"
  }
 },
 "nbformat": 4,
 "nbformat_minor": 5
}
