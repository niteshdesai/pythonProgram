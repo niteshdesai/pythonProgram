{
 "cells": [
  {
   "cell_type": "code",
   "execution_count": null,
   "id": "71ef604d",
   "metadata": {},
   "outputs": [],
   "source": [
    "num=0\n",
    "sum=0\n",
    "num=int(input(\"Enter term\"))\n",
    "\n",
    "for i in range(num+1):\n",
    "    sum+=i\n",
    "print(sum)"
   ]
  }
 ],
 "metadata": {
  "kernelspec": {
   "display_name": "Python 3 (ipykernel)",
   "language": "python",
   "name": "python3"
  },
  "language_info": {
   "codemirror_mode": {
    "name": "ipython",
    "version": 3
   },
   "file_extension": ".py",
   "mimetype": "text/x-python",
   "name": "python",
   "nbconvert_exporter": "python",
   "pygments_lexer": "ipython3",
   "version": "3.9.6"
  }
 },
 "nbformat": 4,
 "nbformat_minor": 5
}
