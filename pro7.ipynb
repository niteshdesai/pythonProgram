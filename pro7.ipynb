{
 "cells": [
  {
   "cell_type": "code",
   "execution_count": 4,
   "id": "0011fe25",
   "metadata": {},
   "outputs": [
    {
     "name": "stdout",
     "output_type": "stream",
     "text": [
      "Enter Any Suit with Card : spade joker\n",
      "Please,try next time\n"
     ]
    }
   ],
   "source": [
    "c=input(\"Enter Any Suit with Card : \").lower()\n",
    "c=c.strip()\n",
    "suit,card=c.split()\n",
    "#print(suit,\" \",card)\n",
    "if(suit=='diamond' or (suit=='spade' and card=='ace') or card=='king'):\n",
    "  print(\"Card is Lucky\")\n",
    "else:\n",
    "  print(\"Please,try next time\")\n"
   ]
  },
  {
   "cell_type": "code",
   "execution_count": null,
   "id": "ad48339f",
   "metadata": {},
   "outputs": [],
   "source": []
  },
  {
   "cell_type": "code",
   "execution_count": null,
   "id": "63372d09",
   "metadata": {},
   "outputs": [],
   "source": []
  }
 ],
 "metadata": {
  "kernelspec": {
   "display_name": "Python 3 (ipykernel)",
   "language": "python",
   "name": "python3"
  },
  "language_info": {
   "codemirror_mode": {
    "name": "ipython",
    "version": 3
   },
   "file_extension": ".py",
   "mimetype": "text/x-python",
   "name": "python",
   "nbconvert_exporter": "python",
   "pygments_lexer": "ipython3",
   "version": "3.9.6"
  }
 },
 "nbformat": 4,
 "nbformat_minor": 5
}
