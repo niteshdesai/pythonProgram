{
 "cells": [
  {
   "cell_type": "code",
   "execution_count": 1,
   "id": "c3a87e85",
   "metadata": {},
   "outputs": [
    {
     "name": "stdout",
     "output_type": "stream",
     "text": [
      "No: 38\n",
      "Name: nitesh\n",
      "height: 5.6\n",
      "True/False: True\n"
     ]
    }
   ],
   "source": [
    "no=38\n",
    "name=\"nitesh\"\n",
    "height=5.6\n",
    "b=True\n",
    "\n",
    "print(\"No:\",no)\n",
    "print(\"Name:\",name)\n",
    "print(\"height:\",height)\n",
    "print(\"True/False:\",b)"
   ]
  }
 ],
 "metadata": {
  "kernelspec": {
   "display_name": "Python 3 (ipykernel)",
   "language": "python",
   "name": "python3"
  },
  "language_info": {
   "codemirror_mode": {
    "name": "ipython",
    "version": 3
   },
   "file_extension": ".py",
   "mimetype": "text/x-python",
   "name": "python",
   "nbconvert_exporter": "python",
   "pygments_lexer": "ipython3",
   "version": "3.9.6"
  }
 },
 "nbformat": 4,
 "nbformat_minor": 5
}
