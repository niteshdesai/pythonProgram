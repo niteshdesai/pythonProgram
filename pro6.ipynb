{
 "cells": [
  {
   "cell_type": "code",
   "execution_count": 1,
   "id": "11539a3a",
   "metadata": {},
   "outputs": [
    {
     "name": "stdout",
     "output_type": "stream",
     "text": [
      "Enter your roll no:CS24M038\n",
      "CS\n",
      "\n",
      "CS24M038 is computer science student:\n"
     ]
    }
   ],
   "source": [
    "rollno=str(input(\"Enter your roll no:\"))\n",
    "\n",
    "brachname=rollno[0:2]\n",
    "\n",
    "print(brachname)\n",
    "\n",
    "if brachname=='CS' or brachname=='Cs' or brachname=='cS' or brachname=='cs':\n",
    "    print(\"\\n{} is computer science student:\".format(rollno))\n",
    "else:\n",
    "     print(\"\\n{} is not computer science student:\".format(rollno))"
   ]
  },
  {
   "cell_type": "code",
   "execution_count": null,
   "id": "ef880910",
   "metadata": {},
   "outputs": [],
   "source": []
  },
  {
   "cell_type": "code",
   "execution_count": null,
   "id": "0d7befd0",
   "metadata": {},
   "outputs": [],
   "source": []
  }
 ],
 "metadata": {
  "kernelspec": {
   "display_name": "Python 3 (ipykernel)",
   "language": "python",
   "name": "python3"
  },
  "language_info": {
   "codemirror_mode": {
    "name": "ipython",
    "version": 3
   },
   "file_extension": ".py",
   "mimetype": "text/x-python",
   "name": "python",
   "nbconvert_exporter": "python",
   "pygments_lexer": "ipython3",
   "version": "3.9.6"
  }
 },
 "nbformat": 4,
 "nbformat_minor": 5
}
